{
 "cells": [
  {
   "cell_type": "markdown",
   "id": "250acbcc",
   "metadata": {},
   "source": [
    "Faz múltiplas trees e compara. A decisão da maioria é a resposta."
   ]
  },
  {
   "cell_type": "markdown",
   "id": "fe4f80d2",
   "metadata": {},
   "source": [
    "- Iris Flower"
   ]
  },
  {
   "cell_type": "code",
   "execution_count": 4,
   "id": "253eec5c",
   "metadata": {},
   "outputs": [],
   "source": [
    "import numpy as np\n",
    "import pandas as pd"
   ]
  },
  {
   "cell_type": "code",
   "execution_count": 5,
   "id": "4066c672",
   "metadata": {},
   "outputs": [],
   "source": [
    "path=\"D:\\Downloads\\full\""
   ]
  },
  {
   "cell_type": "code",
   "execution_count": null,
   "id": "233fb0a0",
   "metadata": {},
   "outputs": [],
   "source": [
    "signals = pd.read_csv(path)"
   ]
  },
  {
   "cell_type": "code",
   "execution_count": null,
   "id": "3d087017",
   "metadata": {},
   "outputs": [],
   "source": []
  },
  {
   "cell_type": "code",
   "execution_count": null,
   "id": "0947ca5e",
   "metadata": {},
   "outputs": [],
   "source": []
  },
  {
   "cell_type": "code",
   "execution_count": null,
   "id": "54b1d929",
   "metadata": {},
   "outputs": [],
   "source": []
  },
  {
   "cell_type": "code",
   "execution_count": null,
   "id": "6621b431",
   "metadata": {},
   "outputs": [],
   "source": [
    "from sklearn.model_selection import train_test_split\n",
    "X_train, X_test, y_train, y_test = train_test_split(data, y, test_size=0.25, shuffle=True)"
   ]
  },
  {
   "cell_type": "code",
   "execution_count": null,
   "id": "25e71ed0",
   "metadata": {},
   "outputs": [],
   "source": [
    "from sklearn.svm import SVC\n",
    "svm = SVC(random_state = 1)\n",
    "svm.fit(X_train,y_train)\n",
    "print(\"SVM accuracy is {} on Train Dataset\".format(svm.score(X_train,y_train)))\n",
    "print(\"SVM accuracy is {} on Test Dataset\".format(svm.score(X_test,y_test)))"
   ]
  },
  {
   "cell_type": "code",
   "execution_count": null,
   "id": "33d70f02",
   "metadata": {},
   "outputs": [],
   "source": []
  },
  {
   "cell_type": "code",
   "execution_count": null,
   "id": "b62d10c4",
   "metadata": {},
   "outputs": [],
   "source": []
  }
 ],
 "metadata": {
  "kernelspec": {
   "display_name": "Python 3 (ipykernel)",
   "language": "python",
   "name": "python3"
  },
  "language_info": {
   "codemirror_mode": {
    "name": "ipython",
    "version": 3
   },
   "file_extension": ".py",
   "mimetype": "text/x-python",
   "name": "python",
   "nbconvert_exporter": "python",
   "pygments_lexer": "ipython3",
   "version": "3.9.1"
  }
 },
 "nbformat": 4,
 "nbformat_minor": 5
}
