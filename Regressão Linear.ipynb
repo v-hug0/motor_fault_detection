{
 "cells": [
  {
   "cell_type": "markdown",
   "id": "6f8bfe19",
   "metadata": {},
   "source": [
    "Regressão Linear: algoritmo de supervisão (conhecemos as variáveis)"
   ]
  },
  {
   "cell_type": "code",
   "execution_count": null,
   "id": "46821420",
   "metadata": {},
   "outputs": [],
   "source": [
    "import numpy as np\n",
    "import pandas as pd\n",
    "import matplotlib.pyplot as plt\n",
    "import seaborn as sns\n",
    "%matplotlib inline"
   ]
  },
  {
   "cell_type": "code",
   "execution_count": null,
   "id": "08a8de50",
   "metadata": {},
   "outputs": [],
   "source": [
    "df=pd.read_excel('diretório/nome_arquivo')\n",
    "X=df.loc[:'menos a target']\n",
    "y=df.loc['target'] "
   ]
  },
  {
   "cell_type": "code",
   "execution_count": null,
   "id": "8cf11835",
   "metadata": {},
   "outputs": [],
   "source": [
    "sns.heatmap(df.coor()) #mapa de correlação"
   ]
  },
  {
   "cell_type": "code",
   "execution_count": null,
   "id": "b7dd1ece",
   "metadata": {},
   "outputs": [],
   "source": [
    "from sklearn.model_selection import train_test_split\n",
    "X_train, X_test, y_train, y_test = train_test_split(X, y, test_size=0.2, random_state=0)"
   ]
  },
  {
   "cell_type": "code",
   "execution_count": null,
   "id": "ac3f0911",
   "metadata": {},
   "outputs": [],
   "source": [
    "from sklearn.linear_model import LinearRegression\n",
    "regressor=LinearRegression()\n",
    "regressor.fit(X_train, y_train)"
   ]
  },
  {
   "cell_type": "code",
   "execution_count": null,
   "id": "f7018044",
   "metadata": {},
   "outputs": [],
   "source": [
    "y_pred=regressor.predict(X_test)"
   ]
  },
  {
   "cell_type": "code",
   "execution_count": null,
   "id": "fd0aa009",
   "metadata": {},
   "outputs": [],
   "source": [
    "from sklearn.metrics import r2_score\n",
    "r2_score(y_test, y_pred)*100"
   ]
  },
  {
   "cell_type": "code",
   "execution_count": null,
   "id": "855a7773",
   "metadata": {},
   "outputs": [],
   "source": []
  },
  {
   "cell_type": "code",
   "execution_count": null,
   "id": "36f91ab1",
   "metadata": {},
   "outputs": [],
   "source": []
  },
  {
   "cell_type": "code",
   "execution_count": null,
   "id": "58eb5fa9",
   "metadata": {},
   "outputs": [],
   "source": []
  },
  {
   "cell_type": "code",
   "execution_count": null,
   "id": "e341e01a",
   "metadata": {},
   "outputs": [],
   "source": []
  },
  {
   "cell_type": "code",
   "execution_count": null,
   "id": "d882e015",
   "metadata": {},
   "outputs": [],
   "source": [
    "#para tratar a coluna que tiver nomes e não números\n",
    "from sklearn.preprocessing import LabelEncoder, OneHotEncoder\n",
    "\n",
    "labelencoder=LabelEncoder()\n",
    "X[]=labelencoder.fit_transform(X[])\n",
    "onehotencoder=OneHotEncoder(categorical_features=[n°coluna])\n",
    "X=onehotencoder.fit_transform(X).toarray()"
   ]
  },
  {
   "cell_type": "code",
   "execution_count": null,
   "id": "1ed87e5d",
   "metadata": {},
   "outputs": [],
   "source": [
    "#o processo anterior cria duas colunas, uma com o nome e outra com os valores correspondentes\n",
    "X=X[:, 1:]"
   ]
  }
 ],
 "metadata": {
  "kernelspec": {
   "display_name": "Python 3 (ipykernel)",
   "language": "python",
   "name": "python3"
  },
  "language_info": {
   "codemirror_mode": {
    "name": "ipython",
    "version": 3
   },
   "file_extension": ".py",
   "mimetype": "text/x-python",
   "name": "python",
   "nbconvert_exporter": "python",
   "pygments_lexer": "ipython3",
   "version": "3.9.1"
  }
 },
 "nbformat": 4,
 "nbformat_minor": 5
}
