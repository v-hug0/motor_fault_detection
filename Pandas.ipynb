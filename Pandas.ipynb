{
 "cells": [
  {
   "cell_type": "code",
   "execution_count": null,
   "id": "ef6f9e41",
   "metadata": {},
   "outputs": [],
   "source": [
    "import pandas as pd\n",
    "\n",
    "#df=pd.DataFrame() : aí voce teria que add as informações do dataframe, não é instaciação"
   ]
  },
  {
   "cell_type": "markdown",
   "id": "5d7b1a5d",
   "metadata": {},
   "source": [
    "- Dá pra criar um dataframe com um dicionário"
   ]
  },
  {
   "cell_type": "code",
   "execution_count": null,
   "id": "b83edf83",
   "metadata": {},
   "outputs": [],
   "source": [
    "df=pd.DataFrame(varivel_com_dict) #as keys são as colunas"
   ]
  },
  {
   "cell_type": "markdown",
   "id": "b200226a",
   "metadata": {},
   "source": [
    "- Importar arquivos"
   ]
  },
  {
   "cell_type": "code",
   "execution_count": null,
   "id": "66f0a81a",
   "metadata": {},
   "outputs": [],
   "source": [
    "df=pd.read_excel(\"Diretório\" ou simplemente o nome do arquivo caso esteja na mesma pasta)"
   ]
  },
  {
   "cell_type": "markdown",
   "id": "a80354a6",
   "metadata": {},
   "source": [
    "- Visualizar"
   ]
  },
  {
   "cell_type": "code",
   "execution_count": null,
   "id": "4fc91c72",
   "metadata": {},
   "outputs": [],
   "source": [
    "display(df)\n",
    "display(df.head(n°linhas)) #limita a visualização\n",
    "diplay(df.describe()) #te mostra algumas informações de medidas centrais para cada coluna\n",
    "df.shape #diz o tamanho da tabela"
   ]
  },
  {
   "cell_type": "markdown",
   "id": "b2eeb896",
   "metadata": {},
   "source": [
    "- Seleção de linhas"
   ]
  },
  {
   "cell_type": "code",
   "execution_count": null,
   "id": "09f0b12a",
   "metadata": {},
   "outputs": [],
   "source": [
    ".loc[linhas,colunas]\n",
    "\n",
    "df.loc[linhas] #selecionar uma ou um intervalo de linhas\n",
    "df.loc[df['coluna']=='Elemento X'] #selecionar sob uma condição - irá selecionar as linhas que contenham X nesta coluna\n"
   ]
  },
  {
   "cell_type": "markdown",
   "id": "cc72fe1d",
   "metadata": {},
   "source": [
    "- Criar coluna"
   ]
  },
  {
   "cell_type": "code",
   "execution_count": null,
   "id": "4ff4765b",
   "metadata": {},
   "outputs": [],
   "source": [
    "df['Nome de coluna que não havia antes'] = algum valor\n",
    "df.loc[:,\"Nome de coluna que não havia antes\"] = valor padrão para todas"
   ]
  },
  {
   "cell_type": "markdown",
   "id": "36a25840",
   "metadata": {},
   "source": [
    "- Criar linha"
   ]
  },
  {
   "cell_type": "code",
   "execution_count": null,
   "id": "489b89ad",
   "metadata": {},
   "outputs": [],
   "source": [
    "df=df.append(#variavel com mais linhas e mesmas colunas)"
   ]
  },
  {
   "cell_type": "markdown",
   "id": "3a18698a",
   "metadata": {},
   "source": [
    "- Excluir linhas e colunas"
   ]
  },
  {
   "cell_type": "code",
   "execution_count": null,
   "id": "7802d122",
   "metadata": {},
   "outputs": [],
   "source": [
    "df=df.drop(\"nome da linha/coluna\", axis=0/1) # 0 - linhas e 1 - colunas"
   ]
  },
  {
   "cell_type": "markdown",
   "id": "5363b426",
   "metadata": {},
   "source": [
    "- Valores vazios"
   ]
  },
  {
   "cell_type": "code",
   "execution_count": null,
   "id": "f2dbfe78",
   "metadata": {},
   "outputs": [],
   "source": [
    "df=df.dropna() #deleta linhas que possuem pelo menos 1 valor vazio\n",
    "df=df.dropna(how='all', axis=0/1) #deletar linhas e/ou colunas com valores vazios\n",
    "df['coluna']=df['coluna'].fillna(df['coluna'].mean) #preencher todos os valores vazios com a média da coluna\n",
    "df=df.ffill() #preenche com o último valor da coluna"
   ]
  },
  {
   "cell_type": "markdown",
   "id": "e010cb99",
   "metadata": {},
   "source": [
    "- Indicadores (Groupby e Value Counts)"
   ]
  },
  {
   "cell_type": "code",
   "execution_count": null,
   "id": "09393e7d",
   "metadata": {},
   "outputs": [],
   "source": [
    "df.value_counts() #conta a frequência de algum elemento\n",
    "df.groupby('Coluna').sum()/.mean() #agrupa os elementos que aparecem numa linha"
   ]
  },
  {
   "cell_type": "markdown",
   "id": "21c9800b",
   "metadata": {},
   "source": [
    "- Mesclar dois dataframes"
   ]
  },
  {
   "cell_type": "code",
   "execution_count": null,
   "id": "0db32d64",
   "metadata": {},
   "outputs": [],
   "source": [
    "df=df.merge(df2)"
   ]
  },
  {
   "cell_type": "markdown",
   "id": "fffe3bdb",
   "metadata": {},
   "source": [
    "- Macetes"
   ]
  },
  {
   "cell_type": "code",
   "execution_count": null,
   "id": "5a2c3caf",
   "metadata": {},
   "outputs": [],
   "source": []
  }
 ],
 "metadata": {
  "kernelspec": {
   "display_name": "Python 3 (ipykernel)",
   "language": "python",
   "name": "python3"
  },
  "language_info": {
   "codemirror_mode": {
    "name": "ipython",
    "version": 3
   },
   "file_extension": ".py",
   "mimetype": "text/x-python",
   "name": "python",
   "nbconvert_exporter": "python",
   "pygments_lexer": "ipython3",
   "version": "3.9.1"
  }
 },
 "nbformat": 4,
 "nbformat_minor": 5
}
