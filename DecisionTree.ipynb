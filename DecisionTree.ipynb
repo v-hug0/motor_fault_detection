{
 "cells": [
  {
   "cell_type": "markdown",
   "id": "d7808bc9",
   "metadata": {},
   "source": [
    "Pode resolver problemas de classificação (divisões feitas por ifs) e de regressão (divisões feitas por somas dos quadrados dos erros)"
   ]
  },
  {
   "cell_type": "markdown",
   "id": "3f2822b5",
   "metadata": {},
   "source": [
    "- As divisões são feitas de forma que haja o maior ganho de informação (seja a conta ou condição)"
   ]
  },
  {
   "cell_type": "markdown",
   "id": "6e36bc1e",
   "metadata": {},
   "source": [
    "- Bom por pedir pouca preparação dos dados, conseguir usar dados numéricos e categóricos, parâmetros não lineares não afetarem"
   ]
  },
  {
   "cell_type": "markdown",
   "id": "027f5f63",
   "metadata": {},
   "source": [
    "- Ruim pelo overfitting"
   ]
  },
  {
   "cell_type": "code",
   "execution_count": 1,
   "id": "40c14c70",
   "metadata": {},
   "outputs": [],
   "source": [
    "import numpy as np\n",
    "import pandas as pd\n",
    "from sklearn.model_selection import train_test_split\n",
    "from sklearn.tree import DecisionTreeClassifier\n",
    "from sklearn.metrics import accuracy_score\n",
    "from sklearn import tree"
   ]
  },
  {
   "cell_type": "code",
   "execution_count": null,
   "id": "b8338ffd",
   "metadata": {},
   "outputs": [],
   "source": [
    "df=pd.read_excel()\n",
    "X=df.loc[]\n",
    "y=df.loc[]"
   ]
  },
  {
   "cell_type": "code",
   "execution_count": null,
   "id": "1d49c998",
   "metadata": {},
   "outputs": [],
   "source": [
    "X_train, X_test, y_train, y_test = train_test_split(X, y, test_size=0.3, random_state=100)"
   ]
  },
  {
   "cell_type": "code",
   "execution_count": 3,
   "id": "5b03267b",
   "metadata": {},
   "outputs": [],
   "source": [
    "clf_entropy=DecisionTreeClassifier(criterion=\"entropy\", random_state=100, max_depth=3, min_samples_leaf=5)\n",
    "#max_depth = camadas da tree\n",
    "#min_samples_leaf = minimo de leaf nodes"
   ]
  },
  {
   "cell_type": "code",
   "execution_count": null,
   "id": "b74e4d1c",
   "metadata": {},
   "outputs": [],
   "source": [
    "y_pred = clf_entropy.predict(X_test)"
   ]
  },
  {
   "cell_type": "code",
   "execution_count": null,
   "id": "bc0bf216",
   "metadata": {},
   "outputs": [],
   "source": [
    "accuracy_score(y_test, y_pred)*100"
   ]
  }
 ],
 "metadata": {
  "kernelspec": {
   "display_name": "Python 3 (ipykernel)",
   "language": "python",
   "name": "python3"
  },
  "language_info": {
   "codemirror_mode": {
    "name": "ipython",
    "version": 3
   },
   "file_extension": ".py",
   "mimetype": "text/x-python",
   "name": "python",
   "nbconvert_exporter": "python",
   "pygments_lexer": "ipython3",
   "version": "3.9.1"
  }
 },
 "nbformat": 4,
 "nbformat_minor": 5
}
